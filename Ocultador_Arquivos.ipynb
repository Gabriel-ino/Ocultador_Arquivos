{
 "cells": [
  {
   "cell_type": "markdown",
   "metadata": {},
   "source": [
    "# OCULTADOR DE ARQUIVOS COM PYTHON"
   ]
  },
  {
   "cell_type": "code",
   "execution_count": 9,
   "metadata": {},
   "outputs": [],
   "source": [
    "# Usa tipos de dados compatíveis com C\n",
    "import ctypes"
   ]
  },
  {
   "cell_type": "code",
   "execution_count": 10,
   "metadata": {},
   "outputs": [
    {
     "name": "stdout",
     "output_type": "stream",
     "text": [
      "Digite o caminho do arquivo a ser ocultado: C:\\Users\\uerba\\JupyterProjects\\ocultar.txt\n",
      "Arquivo ocultado com sucesso.\n"
     ]
    }
   ],
   "source": [
    "# Solicita o caminho do arquivo para ser ocultado\n",
    "try:\n",
    "    archive = str(input('Digite o caminho do arquivo a ser ocultado: '))\n",
    "except:\n",
    "    print('Não foi possível encontrar o arquivo solicitado, tente novamente.')\n",
    "\n",
    "# Atributo ocultar em hexadecimal\n",
    "ocult = 0x02\n",
    "# Tenta ocultar o arquivo, verificando possíveis erros\n",
    "try:\n",
    "    retorna = ctypes.windll.kernel32.SetFileAttributesW(archive, ocult)\n",
    "except:\n",
    "    print('Não foi possível ocultar o arquivo, tente novamente.')\n",
    "else:\n",
    "    print('Arquivo ocultado com sucesso.')\n"
   ]
  }
 ],
 "metadata": {
  "kernelspec": {
   "display_name": "Python 3",
   "language": "python",
   "name": "python3"
  },
  "language_info": {
   "codemirror_mode": {
    "name": "ipython",
    "version": 3
   },
   "file_extension": ".py",
   "mimetype": "text/x-python",
   "name": "python",
   "nbconvert_exporter": "python",
   "pygments_lexer": "ipython3",
   "version": "3.8.5"
  }
 },
 "nbformat": 4,
 "nbformat_minor": 4
}
